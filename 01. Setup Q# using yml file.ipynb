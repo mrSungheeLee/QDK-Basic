{
 "cells": [
  {
   "attachments": {},
   "cell_type": "markdown",
   "metadata": {},
   "source": [
    "<h1>  Q# 개발 환경</h1>\n",
    "<h3>A. 독립 실행형 Q# 개발 환경을 구성하는 방법</h3>\n",
    "<ol><li>Jupyter Notebook\n",
    "\t<li>VS Code(Visual Studio Code)\n",
    "\t<li>Visual Studio 또는 편집기/IDE를 사용\n",
    "</ol>\n",
    "\n",
    "<h3>B. Q#의 실행방법</h3>\n",
    "<ol>\n",
    "\t<li>Q# 프로그램은 독립적으로 실행\n",
    "\t<li>C# 또는 F#과 같은 호스트 언어로 드라이버 프로그램을 활용\n",
    "</ol>"
   ]
  },
  {
   "cell_type": "markdown",
   "metadata": {},
   "source": [
    "<hr>\n",
    "\n",
    "<h3>A. 독립 실행형 Q# 개발 환경을 구성하는 방법</h3>\n",
    "<ol><li><font color=\"blue\" size=4><b>Jupyter Notebook</b></font>\n",
    "<li><font color=\"gray\">VS Code(Visual Studio Code)</font>\n",
    "<li><font color=\"gray\">Visual Studio 또는 편집기/IDE를 사용</font>\n",
    "</ol>\n",
    "\n",
    "<h3><font color=\"gray\">B. Q#의 실행방법</font></h3>\n",
    "<ol>\n",
    "<li><font color=\"gray\">Q# 프로그램은 독립적으로 실행</font>\n",
    "<li><font color=\"gray\">C# 또는 F#과 같은 호스트 언어로 드라이버 프로그램을 활용</font>\n",
    "        </ol>"
   ]
  },
  {
   "cell_type": "markdown",
   "metadata": {},
   "source": [
    "<hr>\n",
    "<h3> # Anaconda 설치가 필요합니다.</h3>\n",
    "<hr>\n",
    "■ Anaconda : <a href=\"https://www.anaconda.com/\">https://www.anaconda.com/</a>"
   ]
  },
  {
   "attachments": {},
   "cell_type": "markdown",
   "metadata": {},
   "source": [
    "<hr>\n",
    "<h3> # Jupyter Notebook – [1] 기존 Conda 환경에 설치 </h3>\n",
    "<hr>\n",
    "■ Reference : <a href=\"https://github.com/crazy4pi314/learn-qc-with-python-and-qsharp\">https://github.com/crazy4pi314/learn-qc-with-python-and-qsharp</a>\n",
    "\n",
    "<h3> [1] Conda 환경 파일 준비</h3>\n",
    "<ol>\n",
    "<li>Environment.yml 파일 준비 ( Download <a href=\"https://github.com/crazy4pi314/learn-qc-with-python-and-qsharp\">Environment.yml</a> )\n",
    "<li>파일 다운로드 또는 메모장 등으로 파일을 생성\n",
    "<li>파일을 C:\\WINDOWS\\SYSTEM32 폴더에 복사\n",
    "</ol>\n",
    "\n",
    "<h3> [2] Conda 환경 구성</h3>\n",
    "<ol>\n",
    "<li>PowerShell 실행 (*관리자권한으로 실행)\n",
    "<li>> conda env create -f environment.yml 실행  (약 3~7분 소요)\n",
    "<li>> conda activate qsharp-book\n",
    "<li>> conda install -c quantum-engineering qsharp\n",
    "</ol>\n",
    "<h5>##### Environment.yml #####</h5>\n",
    "<li>name: <font color=\"red\"><b>qsharp-book</b></font>\n",
    "<li>channels:\n",
    "<li>- conda-forge\n",
    "<li>- microsoft\n",
    "<li>dependencies:\n",
    "<li>- notebook\n",
    "<li>- numpy\n",
    "<li>- scipy\n",
    "<li>- qutip\n",
    "<li>- matplotlib\n",
    "<li>- pip\n",
    "<li>- qsharp==<font color=\"red\"><b>0.24.210930</b></font>\n",
    "\n",
    "<h3> [3] 설치되었는지 확인 + 설치 확인/버전 확인 </h3>\n",
    "<br>> python\n",
    "<br>>>> import qsharp\n",
    "<br>>>> qsharp.component_versions()"
   ]
  },
  {
   "attachments": {},
   "cell_type": "markdown",
   "metadata": {},
   "source": [
    "<h3>■□■□■□■□■□■□■□■□■□■□■□■□■□■□■□■□■□■□■□■□■□■□■□■□■□■□</h3>"
   ]
  },
  {
   "attachments": {},
   "cell_type": "markdown",
   "metadata": {},
   "source": [
    "<hr>\n",
    "<table size=1><tr>\n",
    "<h2> 【참고】 Jupyter notebook 관리 </h2>\n",
    "<h3> Jupyter notebook 실행 </h3>\n",
    "<br>> jupyter notebook\n",
    "<hr>\n",
    "<h3> Jupyter notebook 관리 </h3>\n",
    "<br>> jupyter kernelspec list <font color=\"blue\">-- 등록된 커널 목록</font>\n",
    "<br>> python -m ipykernel  install --user --name qsharp-book --display-name \"qsharp-book\" <font color=\"blue\">-- \"qsharp-book\"이름의 커널 생성</font>\n",
    "<br>> jupyter kernelspec uninstall qsharp-book  <font color=\"blue\">-- \"qhsarp-book\" 명칭의 커널 삭제</font>\n",
    "<hr>\n",
    "<h3> Jupyter notebook 관리 </h3>\n",
    "<br>> conda env list  <font color=\"blue\">-- Anaconda의 가상환경 목록</font>\n",
    "<br>> conda env remove --n qsharp-book  <font color=\"blue\">-- \"qsharp-book\"의 가상환경을 삭제</font>\n",
    "</tr></table>\n",
    "\n"
   ]
  }
 ],
 "metadata": {
  "kernelspec": {
   "display_name": "Python 3",
   "language": "python",
   "name": "python3"
  },
  "language_info": {
   "codemirror_mode": {
    "name": "ipython",
    "version": 3
   },
   "file_extension": ".py",
   "mimetype": "text/x-python",
   "name": "python",
   "nbconvert_exporter": "python",
   "pygments_lexer": "ipython3",
   "version": "3.8.5"
  }
 },
 "nbformat": 4,
 "nbformat_minor": 4
}
