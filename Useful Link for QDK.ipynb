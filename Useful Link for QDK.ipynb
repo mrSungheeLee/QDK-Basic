{
 "cells": [
  {
   "cell_type": "markdown",
   "id": "93d0b6a6",
   "metadata": {},
   "source": [
    "<h2> ■ Useful Link for QDK </h2>"
   ]
  },
  {
   "attachments": {},
   "cell_type": "markdown",
   "id": "0d71aa10",
   "metadata": {},
   "source": [
    " - Azure Quantum documentation : <a href=\"https://docs.microsoft.com/ko-kr/azure/quantum/\">https://docs.microsoft.com/ko-kr/azure/quantum/ </a>"
   ]
  },
  {
   "cell_type": "markdown",
   "id": "16904d8e",
   "metadata": {},
   "source": [
    "  - Github for Microsoft QDK : <a href=\"https://github.com/microsoft/Quantum\"> https://github.com/microsoft/Quantum </a>"
   ]
  },
  {
   "cell_type": "markdown",
   "id": "6e31f0ab",
   "metadata": {},
   "source": [
    "  - Github for Microsoft QuantumLibraries : <a href=\"https://github.com/microsoft/QuantumLibraries\"> https://github.com/microsoft/QuantumLibraries</a>"
   ]
  },
  {
   "cell_type": "markdown",
   "id": "486344f5",
   "metadata": {},
   "source": [
    " - Github for Q# and quantum computing : <a href=\"https://github.com/microsoft/QuantumKatas\"> https://github.com/microsoft/QuantumKatas </a> "
   ]
  },
  {
   "cell_type": "markdown",
   "id": "bcf040fe",
   "metadata": {},
   "source": [
    " - Githun for Q# Text : <a href=\"https://github.com/crazy4pi314/learn-qc-with-python-and-qsharp\">https://github.com/crazy4pi314/learn-qc-with-python-and-qsharp</a>\n",
    "   * Using Binder !# Text : <a href=\"https://mybinder.org/v2/gh/crazy4pi314/learn-qc-with-python-and-qsharp/master\">https://mybinder.org/v2/gh/crazy4pi314/learn-qc-with-python-and-qsharp/master</a>"
   ]
  },
  {
   "cell_type": "markdown",
   "id": "1386a9d6",
   "metadata": {},
   "source": [
    " - Github for \"QDK\" : <a href=\"https://github.com/search?q=qdk\"> https://github.com/search?q=qdk </a>"
   ]
  }
 ],
 "metadata": {
  "kernelspec": {
   "display_name": "Python 3 (ipykernel)",
   "language": "python",
   "name": "python3"
  },
  "language_info": {
   "codemirror_mode": {
    "name": "ipython",
    "version": 3
   },
   "file_extension": ".py",
   "mimetype": "text/x-python",
   "name": "python",
   "nbconvert_exporter": "python",
   "pygments_lexer": "ipython3",
   "version": "3.9.12"
  }
 },
 "nbformat": 4,
 "nbformat_minor": 5
}
